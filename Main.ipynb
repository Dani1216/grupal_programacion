{
 "cells": [
  {
   "cell_type": "code",
   "execution_count": 2,
   "metadata": {},
   "outputs": [
    {
     "name": "stdout",
     "output_type": "stream",
     "text": [
      "100 grados Fahrenheit son 310.92777777777775 Kelvin\n",
      "100 grados Celsius son 671.6700000000001 Rankine\n",
      "100 grados Celsius son 212.0 Farenheit\n"
     ]
    }
   ],
   "source": [
    "import my_temp_conversions\n",
    "from my_temp_conversions import F_to_K\n",
    "from my_temp_conversions import C_to_R\n",
    "from my_temp_conversions import C_to_F\n",
    "\n",
    "#Pruebas\n",
    "\n",
    "#De Farenheit a Kelvin\n",
    "print(\"100 grados Fahrenheit son\", my_temp_conversions.F_to_K(100),\"Kelvin\")\n",
    "\n",
    "#De Celsius a Rankine\n",
    "print(\"100 grados Celsius son\", my_temp_conversions.C_to_R(100),\"Rankine\")\n",
    "\n",
    "#De Celsius a Farenheit\n",
    "print(\"100 grados Celsius son\", my_temp_conversions.C_to_F(100),\"Farenheit\")"
   ]
  }
 ],
 "metadata": {
  "kernelspec": {
   "display_name": "Python 3",
   "language": "python",
   "name": "python3"
  },
  "language_info": {
   "codemirror_mode": {
    "name": "ipython",
    "version": 3
   },
   "file_extension": ".py",
   "mimetype": "text/x-python",
   "name": "python",
   "nbconvert_exporter": "python",
   "pygments_lexer": "ipython3",
   "version": "3.10.8"
  },
  "orig_nbformat": 4
 },
 "nbformat": 4,
 "nbformat_minor": 2
}
